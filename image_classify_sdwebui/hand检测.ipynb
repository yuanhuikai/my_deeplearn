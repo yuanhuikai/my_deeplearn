{
 "cells": [
  {
   "cell_type": "code",
   "execution_count": null,
   "metadata": {},
   "outputs": [],
   "source": [
    "from modelscope.pipelines import pipeline\n",
    "from modelscope.utils.constant import Tasks\n",
    "from modelscope.outputs import OutputKeys\n",
    "model_id = 'damo/cv_hrnetw18_hand-pose-keypoints_coco-wholebody'\n",
    "hand_2d_keypoints = pipeline(Tasks.hand_2d_keypoints, model=model_id)\n",
    "result = hand_2d_keypoints(\n",
    "    'https://modelscope.oss-cn-beijing.aliyuncs.com/test/images/hand_keypoints.jpg')\n",
    "print(result)"
   ]
  }
 ],
 "metadata": {
  "kernelspec": {
   "display_name": "modelscope-39",
   "language": "python",
   "name": "python3"
  },
  "language_info": {
   "codemirror_mode": {
    "name": "ipython",
    "version": 3
   },
   "file_extension": ".py",
   "mimetype": "text/x-python",
   "name": "python",
   "nbconvert_exporter": "python",
   "pygments_lexer": "ipython3",
   "version": "3.9.18"
  },
  "orig_nbformat": 4
 },
 "nbformat": 4,
 "nbformat_minor": 2
}
