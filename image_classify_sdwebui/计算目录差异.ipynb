{
 "cells": [
  {
   "cell_type": "code",
   "execution_count": null,
   "metadata": {},
   "outputs": [],
   "source": [
    "# 计算图片md5\n",
    "import hashlib\n",
    "import os\n",
    "from tqdm import tqdm\n",
    "import hashlib\n",
    "import os\n",
    "import os\n",
    "from tqdm import tqdm_notebook as tqdm\n",
    "\n",
    "\n",
    "def tqdm_file_count(dest_dir):\n",
    "    # 获取文件数量\n",
    "    filecounter = 0\n",
    "    for _, _, files in tqdm(os.walk(dest_dir)):\n",
    "        for _ in files:\n",
    "            filecounter += 1\n",
    "    return filecounter\n",
    "\n",
    "\n",
    "def walkdir(folder):\n",
    "    \"\"\"Walk through each files in a directory\"\"\"\n",
    "    for dirpath, _, files in os.walk(folder):\n",
    "        for filename in files:\n",
    "            yield os.path.abspath(os.path.join(dirpath, filename))\n",
    "\n",
    "\n",
    "def get_dir_md5_map(dest_dir):\n",
    "    md5_map = {}\n",
    "    for img_path in tqdm(walkdir(dest_dir), total=tqdm_file_count(dest_dir)):\n",
    "        with open(img_path, 'rb') as fp:\n",
    "            data = fp.read()\n",
    "            md5 = hashlib.md5(data).hexdigest()\n",
    "        if md5 not in md5_map:\n",
    "            md5_map[md5] = img_path\n",
    "    return md5_map"
   ]
  },
  {
   "cell_type": "code",
   "execution_count": null,
   "metadata": {},
   "outputs": [],
   "source": [
    "dir_a = r\"\"\n",
    "dir_b = r\"\"\n",
    "\n",
    "md5_map_a = get_dir_md5_map(dir_a)\n",
    "md5_map_b = get_dir_md5_map(dir_b)\n",
    "\n",
    "keys_a = md5_map_a.keys()\n",
    "keys_b = md5_map_b.keys()\n",
    "\n",
    "only_in_a = keys_a - keys_b\n",
    "only_in_b = keys_b - keys_a\n",
    "\n",
    "in_booth = keys_a & keys_b\n",
    "\n",
    "for key in only_in_a:\n",
    "    print(f\"only in a: {md5_map_a[key]}\")\n",
    "\n",
    "for key in only_in_b:\n",
    "    print(f\"only in b: {md5_map_b[key]}\")\n",
    "\n",
    "for key in in_booth:\n",
    "    print(f\"diff: {md5_map_a[key]} {md5_map_b[key]}\")"
   ]
  }
 ],
 "metadata": {
  "language_info": {
   "name": "python"
  },
  "orig_nbformat": 4
 },
 "nbformat": 4,
 "nbformat_minor": 2
}
