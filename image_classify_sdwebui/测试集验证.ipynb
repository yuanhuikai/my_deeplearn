{
 "cells": [
  {
   "cell_type": "markdown",
   "metadata": {},
   "source": [
    "## 测试集验证，加载模型，计算测试集的准确率及召回率\n"
   ]
  },
  {
   "cell_type": "code",
   "execution_count": 3,
   "metadata": {},
   "outputs": [
    {
     "name": "stdout",
     "output_type": "stream",
     "text": [
      "True\n",
      "WARNING:tensorflow:SavedModel saved prior to TF 2.5 detected when loading Keras model. Please ensure that you are saving the model with model.save() or tf.keras.models.save_model(), *NOT* tf.saved_model.save(). To confirm, there should be a file named \"keras_metadata.pb\" in the SavedModel directory.\n"
     ]
    },
    {
     "ename": "JSONDecodeError",
     "evalue": "Expecting value: line 1 column 1 (char 0)",
     "output_type": "error",
     "traceback": [
      "\u001b[1;31m---------------------------------------------------------------------------\u001b[0m",
      "\u001b[1;31mJSONDecodeError\u001b[0m                           Traceback (most recent call last)",
      "\u001b[1;32md:\\my_deeplearn\\image_classify_sdwebui\\测试集验证.ipynb 单元格 2\u001b[0m line \u001b[0;36m1\n\u001b[0;32m     <a href='vscode-notebook-cell:/d%3A/my_deeplearn/image_classify_sdwebui/%E6%B5%8B%E8%AF%95%E9%9B%86%E9%AA%8C%E8%AF%81.ipynb#W0sZmlsZQ%3D%3D?line=11'>12</a>\u001b[0m \u001b[39mprint\u001b[39m(os\u001b[39m.\u001b[39mpath\u001b[39m.\u001b[39mexists(saved_model_path))\n\u001b[0;32m     <a href='vscode-notebook-cell:/d%3A/my_deeplearn/image_classify_sdwebui/%E6%B5%8B%E8%AF%95%E9%9B%86%E9%AA%8C%E8%AF%81.ipynb#W0sZmlsZQ%3D%3D?line=13'>14</a>\u001b[0m \u001b[39m# 加载模型\u001b[39;00m\n\u001b[1;32m---> <a href='vscode-notebook-cell:/d%3A/my_deeplearn/image_classify_sdwebui/%E6%B5%8B%E8%AF%95%E9%9B%86%E9%AA%8C%E8%AF%81.ipynb#W0sZmlsZQ%3D%3D?line=14'>15</a>\u001b[0m model \u001b[39m=\u001b[39m tf\u001b[39m.\u001b[39;49mkeras\u001b[39m.\u001b[39;49mmodels\u001b[39m.\u001b[39;49mload_model(saved_model_path)\n\u001b[0;32m     <a href='vscode-notebook-cell:/d%3A/my_deeplearn/image_classify_sdwebui/%E6%B5%8B%E8%AF%95%E9%9B%86%E9%AA%8C%E8%AF%81.ipynb#W0sZmlsZQ%3D%3D?line=15'>16</a>\u001b[0m input_shape \u001b[39m=\u001b[39m (\u001b[39m224\u001b[39m, \u001b[39m224\u001b[39m)\n\u001b[0;32m     <a href='vscode-notebook-cell:/d%3A/my_deeplearn/image_classify_sdwebui/%E6%B5%8B%E8%AF%95%E9%9B%86%E9%AA%8C%E8%AF%81.ipynb#W0sZmlsZQ%3D%3D?line=17'>18</a>\u001b[0m dest_dir \u001b[39m=\u001b[39m \u001b[39mr\u001b[39m\u001b[39m'\u001b[39m\u001b[39mD:\u001b[39m\u001b[39m\\\u001b[39m\u001b[39mmy_deeplearn\u001b[39m\u001b[39m\\\u001b[39m\u001b[39mimage_classify_sdwebui\u001b[39m\u001b[39m\\\u001b[39m\u001b[39mdata\u001b[39m\u001b[39m\\\u001b[39m\u001b[39mtest\u001b[39m\u001b[39m'\u001b[39m\n",
      "File \u001b[1;32mc:\\ProgramData\\anaconda3\\envs\\tf-39\\lib\\site-packages\\tensorflow\\python\\keras\\saving\\save.py:206\u001b[0m, in \u001b[0;36mload_model\u001b[1;34m(filepath, custom_objects, compile, options)\u001b[0m\n\u001b[0;32m    204\u001b[0m       filepath \u001b[39m=\u001b[39m path_to_string(filepath)\n\u001b[0;32m    205\u001b[0m       \u001b[39mif\u001b[39;00m \u001b[39misinstance\u001b[39m(filepath, \u001b[39mstr\u001b[39m):\n\u001b[1;32m--> 206\u001b[0m         \u001b[39mreturn\u001b[39;00m saved_model_load\u001b[39m.\u001b[39;49mload(filepath, \u001b[39mcompile\u001b[39;49m, options)\n\u001b[0;32m    208\u001b[0m \u001b[39mraise\u001b[39;00m \u001b[39mIOError\u001b[39;00m(\n\u001b[0;32m    209\u001b[0m     \u001b[39m'\u001b[39m\u001b[39mUnable to load model. Filepath is not an hdf5 file (or h5py is not \u001b[39m\u001b[39m'\u001b[39m\n\u001b[0;32m    210\u001b[0m     \u001b[39m'\u001b[39m\u001b[39mavailable) or SavedModel.\u001b[39m\u001b[39m'\u001b[39m)\n",
      "File \u001b[1;32mc:\\ProgramData\\anaconda3\\envs\\tf-39\\lib\\site-packages\\tensorflow\\python\\keras\\saving\\saved_model\\load.py:146\u001b[0m, in \u001b[0;36mload\u001b[1;34m(path, compile, options)\u001b[0m\n\u001b[0;32m    144\u001b[0m \u001b[39m# Recreate layers and metrics using the info stored in the metadata.\u001b[39;00m\n\u001b[0;32m    145\u001b[0m keras_loader \u001b[39m=\u001b[39m KerasObjectLoader(metadata, object_graph_def)\n\u001b[1;32m--> 146\u001b[0m keras_loader\u001b[39m.\u001b[39;49mload_layers(\u001b[39mcompile\u001b[39;49m\u001b[39m=\u001b[39;49m\u001b[39mcompile\u001b[39;49m)\n\u001b[0;32m    148\u001b[0m \u001b[39m# Generate a dictionary of all loaded nodes.\u001b[39;00m\n\u001b[0;32m    149\u001b[0m nodes_to_load \u001b[39m=\u001b[39m {\u001b[39m'\u001b[39m\u001b[39mroot\u001b[39m\u001b[39m'\u001b[39m: \u001b[39mNone\u001b[39;00m}\n",
      "File \u001b[1;32mc:\\ProgramData\\anaconda3\\envs\\tf-39\\lib\\site-packages\\tensorflow\\python\\keras\\saving\\saved_model\\load.py:378\u001b[0m, in \u001b[0;36mKerasObjectLoader.load_layers\u001b[1;34m(self, compile)\u001b[0m\n\u001b[0;32m    375\u001b[0m     metric_list\u001b[39m.\u001b[39mappend(node_metadata)\n\u001b[0;32m    376\u001b[0m     \u001b[39mcontinue\u001b[39;00m\n\u001b[1;32m--> 378\u001b[0m   \u001b[39mself\u001b[39m\u001b[39m.\u001b[39mloaded_nodes[node_metadata\u001b[39m.\u001b[39mnode_id] \u001b[39m=\u001b[39m \u001b[39mself\u001b[39;49m\u001b[39m.\u001b[39;49m_load_layer(\n\u001b[0;32m    379\u001b[0m       node_metadata\u001b[39m.\u001b[39;49mnode_id, node_metadata\u001b[39m.\u001b[39;49midentifier,\n\u001b[0;32m    380\u001b[0m       node_metadata\u001b[39m.\u001b[39;49mmetadata)\n\u001b[0;32m    382\u001b[0m \u001b[39mfor\u001b[39;00m node_metadata \u001b[39min\u001b[39;00m metric_list:\n\u001b[0;32m    383\u001b[0m   \u001b[39mtry\u001b[39;00m:\n",
      "File \u001b[1;32mc:\\ProgramData\\anaconda3\\envs\\tf-39\\lib\\site-packages\\tensorflow\\python\\keras\\saving\\saved_model\\load.py:400\u001b[0m, in \u001b[0;36mKerasObjectLoader._load_layer\u001b[1;34m(self, node_id, identifier, metadata)\u001b[0m\n\u001b[0;32m    398\u001b[0m \u001b[39mdef\u001b[39;00m \u001b[39m_load_layer\u001b[39m(\u001b[39mself\u001b[39m, node_id, identifier, metadata):\n\u001b[0;32m    399\u001b[0m \u001b[39m  \u001b[39m\u001b[39m\"\"\"Load a single layer from a SavedUserObject proto.\"\"\"\u001b[39;00m\n\u001b[1;32m--> 400\u001b[0m   metadata \u001b[39m=\u001b[39m json_utils\u001b[39m.\u001b[39;49mdecode(metadata)\n\u001b[0;32m    402\u001b[0m   \u001b[39m# If node was already created\u001b[39;00m\n\u001b[0;32m    403\u001b[0m   \u001b[39mif\u001b[39;00m node_id \u001b[39min\u001b[39;00m \u001b[39mself\u001b[39m\u001b[39m.\u001b[39mloaded_nodes:\n",
      "File \u001b[1;32mc:\\ProgramData\\anaconda3\\envs\\tf-39\\lib\\site-packages\\tensorflow\\python\\keras\\saving\\saved_model\\json_utils.py:62\u001b[0m, in \u001b[0;36mdecode\u001b[1;34m(json_string)\u001b[0m\n\u001b[0;32m     61\u001b[0m \u001b[39mdef\u001b[39;00m \u001b[39mdecode\u001b[39m(json_string):\n\u001b[1;32m---> 62\u001b[0m   \u001b[39mreturn\u001b[39;00m json\u001b[39m.\u001b[39;49mloads(json_string, object_hook\u001b[39m=\u001b[39;49m_decode_helper)\n",
      "File \u001b[1;32mc:\\ProgramData\\anaconda3\\envs\\tf-39\\lib\\json\\__init__.py:359\u001b[0m, in \u001b[0;36mloads\u001b[1;34m(s, cls, object_hook, parse_float, parse_int, parse_constant, object_pairs_hook, **kw)\u001b[0m\n\u001b[0;32m    357\u001b[0m \u001b[39mif\u001b[39;00m parse_constant \u001b[39mis\u001b[39;00m \u001b[39mnot\u001b[39;00m \u001b[39mNone\u001b[39;00m:\n\u001b[0;32m    358\u001b[0m     kw[\u001b[39m'\u001b[39m\u001b[39mparse_constant\u001b[39m\u001b[39m'\u001b[39m] \u001b[39m=\u001b[39m parse_constant\n\u001b[1;32m--> 359\u001b[0m \u001b[39mreturn\u001b[39;00m \u001b[39mcls\u001b[39;49m(\u001b[39m*\u001b[39;49m\u001b[39m*\u001b[39;49mkw)\u001b[39m.\u001b[39;49mdecode(s)\n",
      "File \u001b[1;32mc:\\ProgramData\\anaconda3\\envs\\tf-39\\lib\\json\\decoder.py:337\u001b[0m, in \u001b[0;36mJSONDecoder.decode\u001b[1;34m(self, s, _w)\u001b[0m\n\u001b[0;32m    332\u001b[0m \u001b[39mdef\u001b[39;00m \u001b[39mdecode\u001b[39m(\u001b[39mself\u001b[39m, s, _w\u001b[39m=\u001b[39mWHITESPACE\u001b[39m.\u001b[39mmatch):\n\u001b[0;32m    333\u001b[0m \u001b[39m    \u001b[39m\u001b[39m\"\"\"Return the Python representation of ``s`` (a ``str`` instance\u001b[39;00m\n\u001b[0;32m    334\u001b[0m \u001b[39m    containing a JSON document).\u001b[39;00m\n\u001b[0;32m    335\u001b[0m \n\u001b[0;32m    336\u001b[0m \u001b[39m    \"\"\"\u001b[39;00m\n\u001b[1;32m--> 337\u001b[0m     obj, end \u001b[39m=\u001b[39m \u001b[39mself\u001b[39;49m\u001b[39m.\u001b[39;49mraw_decode(s, idx\u001b[39m=\u001b[39;49m_w(s, \u001b[39m0\u001b[39;49m)\u001b[39m.\u001b[39;49mend())\n\u001b[0;32m    338\u001b[0m     end \u001b[39m=\u001b[39m _w(s, end)\u001b[39m.\u001b[39mend()\n\u001b[0;32m    339\u001b[0m     \u001b[39mif\u001b[39;00m end \u001b[39m!=\u001b[39m \u001b[39mlen\u001b[39m(s):\n",
      "File \u001b[1;32mc:\\ProgramData\\anaconda3\\envs\\tf-39\\lib\\json\\decoder.py:355\u001b[0m, in \u001b[0;36mJSONDecoder.raw_decode\u001b[1;34m(self, s, idx)\u001b[0m\n\u001b[0;32m    353\u001b[0m     obj, end \u001b[39m=\u001b[39m \u001b[39mself\u001b[39m\u001b[39m.\u001b[39mscan_once(s, idx)\n\u001b[0;32m    354\u001b[0m \u001b[39mexcept\u001b[39;00m \u001b[39mStopIteration\u001b[39;00m \u001b[39mas\u001b[39;00m err:\n\u001b[1;32m--> 355\u001b[0m     \u001b[39mraise\u001b[39;00m JSONDecodeError(\u001b[39m\"\u001b[39m\u001b[39mExpecting value\u001b[39m\u001b[39m\"\u001b[39m, s, err\u001b[39m.\u001b[39mvalue) \u001b[39mfrom\u001b[39;00m \u001b[39mNone\u001b[39;00m\n\u001b[0;32m    356\u001b[0m \u001b[39mreturn\u001b[39;00m obj, end\n",
      "\u001b[1;31mJSONDecodeError\u001b[0m: Expecting value: line 1 column 1 (char 0)"
     ]
    }
   ],
   "source": [
    "from utils.tf_utils import preprocess_image, precision_recall\n",
    "from utils.utils import walkdir, tqdm_file_count\n",
    "from tqdm import tqdm\n",
    "import os\n",
    "import pandas as pd\n",
    "import tensorflow as tf\n",
    "\n",
    "# 你的模型的路径\n",
    "saved_model_path = r'D:\\my_deeplearn\\image_classify_sdwebui\\models\\model_20231010.h5'\n",
    "\n",
    "\n",
    "print(os.path.exists(saved_model_path))\n",
    "\n",
    "# 加载模型\n",
    "model = tf.keras.models.load_model(saved_model_path)\n",
    "input_shape = (224, 224)\n",
    "\n",
    "dest_dir = r'D:\\my_deeplearn\\image_classify_sdwebui\\data\\test'\n",
    "base_name = os.path.basename(dest_dir)\n",
    "\n",
    "threshold = 0.5\n",
    "result_data = []\n",
    "true_class_list = []\n",
    "predict_class_list = []\n",
    "\n",
    "# Preprocess the total files count\n",
    "for file_path in tqdm(walkdir(dest_dir), total=tqdm_file_count(dest_dir)):\n",
    "    file_dir, _ = os.path.split(file_path)\n",
    "    root = os.path.basename(file_dir)\n",
    "    # 获取上级目录名\n",
    "    true_class = int(os.path.basename(root))\n",
    "    # print(img_path)\n",
    "    if not file_path.lower().endswith(('.jpg', '.jpeg', '.png')):\n",
    "        continue\n",
    "    img_array = preprocess_image(file_path, target_size=input_shape)\n",
    "    # 使用训练好的模型进行预测\n",
    "    predictions = model.predict(img_array)\n",
    "    if predictions[0] > threshold:\n",
    "        predict_class = 1\n",
    "    else:\n",
    "        predict_class = 0\n",
    "    result_data.append([file_path, true_class, predict_class])\n",
    "    true_class_list.append(true_class)\n",
    "    predict_class_list.append(predict_class)\n",
    "\n",
    "df = pd.DataFrame(result_data, columns=[\n",
    "                  \"img_path\", \"true_class\", \"predict_class\"])\n",
    "\n",
    "precision, recall = precision_recall(true_class_list, predict_class_list)\n",
    "print(\"Precision:\", precision)\n",
    "print(\"Recall:\", recall)"
   ]
  },
  {
   "cell_type": "code",
   "execution_count": 2,
   "metadata": {},
   "outputs": [
    {
     "name": "stdout",
     "output_type": "stream",
     "text": [
      "2.5.0\n"
     ]
    }
   ],
   "source": [
    "print(tf.__version__)"
   ]
  }
 ],
 "metadata": {
  "kernelspec": {
   "display_name": "tf-39",
   "language": "python",
   "name": "python3"
  },
  "language_info": {
   "codemirror_mode": {
    "name": "ipython",
    "version": 3
   },
   "file_extension": ".py",
   "mimetype": "text/x-python",
   "name": "python",
   "nbconvert_exporter": "python",
   "pygments_lexer": "ipython3",
   "version": "3.9.16"
  }
 },
 "nbformat": 4,
 "nbformat_minor": 2
}
