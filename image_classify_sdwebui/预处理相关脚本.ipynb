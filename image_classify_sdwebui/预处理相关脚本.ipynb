{
 "cells": [
  {
   "cell_type": "code",
   "execution_count": null,
   "id": "32485a3b-f205-4076-9456-ba2eb11e621f",
   "metadata": {
    "tags": []
   },
   "outputs": [],
   "source": [
    "# 加载模型预测\n",
    "from tensorflow import keras\n",
    "# model_path = 'models\\\\model_20230616193622.h5'\n",
    "model_path = 'models\\\\model_20230714155707.h5'\n",
    "model = keras.models.load_model(model_path)\n",
    "input_shape = (224, 448)"
   ]
  },
  {
   "cell_type": "markdown",
   "id": "3ff1d17e",
   "metadata": {},
   "source": [
    "### 测试集\n"
   ]
  },
  {
   "cell_type": "code",
   "execution_count": null,
   "id": "8ce37bb5",
   "metadata": {},
   "outputs": [],
   "source": []
  },
  {
   "cell_type": "code",
   "execution_count": null,
   "id": "a0cb08de-9375-4422-bc95-3ef0c5eb5205",
   "metadata": {
    "tags": []
   },
   "outputs": [],
   "source": [
    "# 图片预测 分类\n",
    "import pandas as pd\n",
    "import shutil\n",
    "import os\n",
    "from tqdm import tqdm_notebook as tqdm\n",
    "from utils.utils import check_dir_exists, walkdir, tqdm_file_count\n",
    "from utils.tf_utils import preprocess_image\n",
    "\n",
    "dest_dir = r\"C:\\Users\\yhk\\Downloads\\sdxlLora_homeland_female\\1\"\n",
    "\n",
    "print(tqdm_file_count(dest_dir))\n",
    "_, dir_name = os.path.split(dest_dir)\n",
    "csv_file = f\"{dir_name}_预测结果.csv\"\n",
    "threshold = 0.5\n",
    "result_data = []\n",
    "\n",
    "for file_path in tqdm(walkdir(dest_dir), total=tqdm_file_count(dest_dir)):\n",
    "    root = os.path.dirname(file_path)\n",
    "    file_name = os.path.split(file_path)[-1]\n",
    "    if not file_path.lower().endswith(('.jpg', '.jpeg', '.png')):\n",
    "        continue\n",
    "    img_array = preprocess_image(file_path, target_size=input_shape)\n",
    "    # 使用训练好的模型进行预测\n",
    "    predictions = model.predict(img_array)\n",
    "    if predictions[0] > threshold:\n",
    "        predict_class = 1\n",
    "        sub_dir_name = '可用'\n",
    "    else:\n",
    "        predict_class = 0\n",
    "        sub_dir_name = '不可用'\n",
    "    copy_dir = os.path.join(root, sub_dir_name)\n",
    "    check_dir_exists(copy_dir)\n",
    "    copy_img_path = os.path.join(copy_dir, file_name)\n",
    "    if not os.path.exists(copy_img_path):\n",
    "        try:\n",
    "            shutil.move(file_path, copy_img_path)\n",
    "        except Exception as e:\n",
    "            print(e)\n",
    "            result_data.append([file_path,  predict_class, predictions[0]])\n",
    "df = pd.DataFrame(result_data, columns=[\n",
    "                  \"img_path\",  \"predict_class\", 'predictions'])\n",
    "df.to_csv(csv_file, index=False)\n",
    "print(tqdm_file_count(dest_dir))"
   ]
  },
  {
   "cell_type": "code",
   "execution_count": null,
   "id": "e82902f0",
   "metadata": {},
   "outputs": [],
   "source": [
    "# 随机选取500张\n",
    "import os\n",
    "import random\n",
    "file_list = []\n",
    "dest_dir_list = [\"C:\\\\Users\\\\Administrator\\\\Desktop\\\\workspace\\\\stablediffusion\\\\跑图结果\\\\0609随机男\",\n",
    "                 \"C:\\\\Users\\\\Administrator\\\\Desktop\\\\workspace\\\\stablediffusion\\\\跑图结果\\\\0609随机女\"]\n",
    "for dest_dir in dest_dir_list:\n",
    "    for root, _, files in os.walk(dest_dir):\n",
    "        for file in files:\n",
    "            file_list.append(os.path.join(root, file))\n",
    "\n",
    "result_list = random.sample(file_list, 500)"
   ]
  },
  {
   "cell_type": "code",
   "execution_count": null,
   "id": "f7d5019c",
   "metadata": {},
   "outputs": [],
   "source": [
    "# 计算图片md5\n",
    "import hashlib\n",
    "import os\n",
    "from utils import walkdir, tqdm_file_count\n",
    "from tqdm import tqdm\n",
    "\n",
    "\n",
    "def check_file_dup(dest_dir):\n",
    "    md5_list = []\n",
    "    md5_map = {}\n",
    "    for img_path in tqdm(walkdir(dest_dir), total=tqdm_file_count(dest_dir)):\n",
    "        with open(img_path, 'rb') as fp:\n",
    "            data = fp.read()\n",
    "            md5 = hashlib.md5(data).hexdigest()\n",
    "        if md5 not in md5_map:\n",
    "            md5_map[md5] = img_path\n",
    "            md5_list.append(md5)\n",
    "        else:\n",
    "            # 删除文件\n",
    "            os.remove(img_path)\n",
    "            print(f\"img_path:{img_path} md5:{md5} {md5_map[md5]}\")\n",
    "\n",
    "    return md5_list"
   ]
  },
  {
   "cell_type": "code",
   "execution_count": null,
   "id": "32293d05",
   "metadata": {},
   "outputs": [],
   "source": [
    "# 计算目录下文件的md5 防止重复\n",
    "train_data_dir = 'C:\\\\Users\\\\Administrator\\\\Desktop\\\\workspace\\\\慧凯训练筛图模型\\\\训练集_COPY'\n",
    "dir_list = [\"0\", \"1\"]\n",
    "# 校验图片训练集\n",
    "for dest_dir in dir_list:\n",
    "    dest_dir_path = os.path.join(train_data_dir, dest_dir)\n",
    "    check_file_dup(dest_dir_path)"
   ]
  },
  {
   "cell_type": "code",
   "execution_count": null,
   "id": "3b1f429c",
   "metadata": {},
   "outputs": [],
   "source": [
    "# 计算图片是否有重复的\n",
    "md5_list_0 = check_file_dup(\n",
    "    \"C:\\\\Users\\\\Administrator\\\\Desktop\\\\workspace\\\\慧凯训练筛图模型\\\\训练集_COPY\\\\0\")\n",
    "md5_list_1 = check_file_dup(\n",
    "    \"C:\\\\Users\\\\Administrator\\\\Desktop\\\\workspace\\\\慧凯训练筛图模型\\\\训练集_COPY\\\\1\")\n",
    "# 计算list交集\n",
    "inner_list = set(md5_list_0).intersection(set(md5_list_1))\n",
    "print(inner_list)"
   ]
  },
  {
   "cell_type": "code",
   "execution_count": null,
   "id": "aa843274",
   "metadata": {},
   "outputs": [],
   "source": [
    "# 删除不可用里面重复图片\n",
    "import os\n",
    "import hashlib\n",
    "train_data_dir = 'C:\\\\Users\\\\Administrator\\\\Desktop\\\\workspace\\\\慧凯训练筛图模型\\\\训练集_COPY'\n",
    "# 计算目录下文件的md5 防止重复\n",
    "md5_map_0 = {}\n",
    "for root, _, files in os.walk(os.path.join(train_data_dir, \"0\")):\n",
    "    for file in files:\n",
    "        img_path = os.path.join(root, file)\n",
    "        with open(img_path, 'rb') as fp:\n",
    "            data = fp.read()\n",
    "            md5 = hashlib.md5(data).hexdigest()\n",
    "        if md5 in inner_list:\n",
    "            os.remove(img_path)\n",
    "            print(f\"img_path:{img_path} md5:{md5}\")"
   ]
  },
  {
   "cell_type": "code",
   "execution_count": null,
   "id": "eef23478",
   "metadata": {},
   "outputs": [],
   "source": [
    "# 随机选取200张作为验证集\n",
    "import glob\n",
    "import random\n",
    "import os\n",
    "import shutil\n",
    "train_data_dir = 'C:\\\\Users\\\\Administrator\\\\Desktop\\\\workspace\\\\慧凯训练筛图模型\\\\训练集_COPY'\n",
    "class_dir = \"1\"\n",
    "# 创建验证集文件夹\n",
    "valid_dir = os.path.join(\n",
    "    'C:\\\\Users\\\\Administrator\\\\Desktop\\\\workspace\\\\慧凯训练筛图模型\\\\测试集', class_dir)\n",
    "number_of_valid_images = 200\n",
    "# 获取所有图片的路径\n",
    "image_files = glob.glob(f\"{os.path.join(train_data_dir, class_dir)}/*.*\")\n",
    "valid_images = random.sample(image_files, number_of_valid_images)\n",
    "os.makedirs(valid_dir, exist_ok=True)\n",
    "# 将选取的图片移动到验证集文件夹\n",
    "for image in valid_images:\n",
    "    shutil.move(image, os.path.join(valid_dir, os.path.basename(image)))\n",
    "print(f\"已从训练集中随机选取了 {number_of_valid_images} 张图片作为验证集。\")"
   ]
  },
  {
   "cell_type": "code",
   "execution_count": null,
   "id": "1f9bd545",
   "metadata": {},
   "outputs": [],
   "source": []
  }
 ],
 "metadata": {
  "kernelspec": {
   "display_name": "Python 3 (ipykernel)",
   "language": "python",
   "name": "python3"
  },
  "language_info": {
   "codemirror_mode": {
    "name": "ipython",
    "version": 3
   },
   "file_extension": ".py",
   "mimetype": "text/x-python",
   "name": "python",
   "nbconvert_exporter": "python",
   "pygments_lexer": "ipython3",
   "version": "3.9.16"
  },
  "widgets": {
   "application/vnd.jupyter.widget-state+json": {
    "state": {},
    "version_major": 2,
    "version_minor": 0
   }
  }
 },
 "nbformat": 4,
 "nbformat_minor": 5
}
